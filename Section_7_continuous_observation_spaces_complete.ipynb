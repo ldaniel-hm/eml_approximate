{
  "cells": [
    {
      "cell_type": "markdown",
      "metadata": {
        "pycharm": {
          "name": "#%%\n"
        },
        "id": "9vN8l4-UvgqJ"
      },
      "source": [
        "# Formas de Discretizar Espacios Continuos\n",
        "\n",
        "En este notebook se muestra como adaptar los espacios de estados continuos para que se puedan aplicar los métodos tabulares de aprendizaje por refuerzo.\n"
      ]
    },
    {
      "cell_type": "markdown",
      "metadata": {
        "id": "AYUqQBl1vgqM"
      },
      "source": [
        "## Preparamos el entorno que se usará en el notebook\n"
      ]
    },
    {
      "cell_type": "code",
      "execution_count": 104,
      "metadata": {
        "id": "ITOgJ74WvgqL",
        "cellView": "form"
      },
      "outputs": [],
      "source": [
        "#@title Importamos las librerias necesarias\n",
        "import random\n",
        "import gymnasium as gym\n",
        "from gymnasium import ObservationWrapper\n",
        "import numpy as np\n",
        "import matplotlib.pyplot as plt\n",
        "from tqdm import tqdm"
      ]
    },
    {
      "cell_type": "code",
      "execution_count": 105,
      "metadata": {
        "id": "Zpo8BQEAvgqM",
        "colab": {
          "base_uri": "https://localhost:8080/"
        },
        "outputId": "22e31a78-756e-4f90-bea9-7be316e6015c"
      },
      "outputs": [
        {
          "output_type": "execute_result",
          "data": {
            "text/plain": [
              "(array([-0.43300366,  0.        ], dtype=float32), {})"
            ]
          },
          "metadata": {},
          "execution_count": 105
        }
      ],
      "source": [
        "#@title Cargamos el entorno\n",
        "env = gym.make(\"MountainCar-v0\", render_mode=\"rgb_array\")\n",
        "env.reset(seed=100)\n"
      ]
    },
    {
      "cell_type": "markdown",
      "source": [
        "### **Las acciones del entorno**\n",
        "\n",
        "La acciones disponibles son:\n",
        "- 0: Acelerar a la izquierda.\n",
        "- 1: No acelerar\n",
        "- 2: Acelerar a la derecha"
      ],
      "metadata": {
        "id": "kdWiKaebWztR"
      }
    },
    {
      "cell_type": "code",
      "source": [
        "env.action_space"
      ],
      "metadata": {
        "colab": {
          "base_uri": "https://localhost:8080/"
        },
        "id": "XqboAsIbW_nV",
        "outputId": "3c196b8b-8af9-4af3-9527-8b7008d39fab"
      },
      "execution_count": 3,
      "outputs": [
        {
          "output_type": "execute_result",
          "data": {
            "text/plain": [
              "Discrete(3)"
            ]
          },
          "metadata": {},
          "execution_count": 3
        }
      ]
    },
    {
      "cell_type": "markdown",
      "source": [
        "### **Los estados del entorno**\n",
        "\n",
        "Las observaciones es un ndarray con dimensión (2,) donde los elementos se corresponde a los siguientes valores:\n",
        "\n",
        "| Número | Observación                          | Mínimo | Máximo | Unidad        |\n",
        "|--------|--------------------------------------|--------|--------|---------------|\n",
        "| 0      | Posición del coche en el eje x      | -1.2   | 0.6    | posición (m)  |\n",
        "| 1      | Velocidad del coche                 | -0.07  | 0.07   | velocidad (v) |\n"
      ],
      "metadata": {
        "id": "H8RTbpT2XG6L"
      }
    },
    {
      "cell_type": "code",
      "source": [
        "env.observation_space"
      ],
      "metadata": {
        "colab": {
          "base_uri": "https://localhost:8080/"
        },
        "id": "im6oS8xqXj0b",
        "outputId": "848e6cfd-1994-4797-cf7b-6667ed15faca"
      },
      "execution_count": 4,
      "outputs": [
        {
          "output_type": "execute_result",
          "data": {
            "text/plain": [
              "Box([-1.2  -0.07], [0.6  0.07], (2,), float32)"
            ]
          },
          "metadata": {},
          "execution_count": 4
        }
      ]
    },
    {
      "cell_type": "markdown",
      "source": [
        "## Agregación\n",
        "\n",
        "Podemos pasar de un espacio continuo de observaciones $[-1.2, 0.6]\\times [-0.07, 0.07]$ a un espacio discreto. Para ello, discretizamos cada dimensión con una partición de intervalos. A esto se le llama **agregación.**\n"
      ],
      "metadata": {
        "id": "yLKp3Xe2dSbI"
      }
    },
    {
      "cell_type": "code",
      "source": [
        "#@title Por ejemplo, podemos discretizar el espacio en solo 25 observaciones\n",
        "# Definir los rangos para la posición y la velocidad\n",
        "x_min, x_max = -1.2, 0.6    # Rango para la posición (eje X)\n",
        "y_min, y_max = -0.07, 0.07  # Rango para la velocidad (eje Y)\n",
        "\n",
        "# Crear la figura y el eje\n",
        "fig, ax = plt.subplots(figsize=(4, 3))\n",
        "\n",
        "# Establecer los límites de los ejes\n",
        "ax.set_xlim(x_min, x_max)\n",
        "ax.set_ylim(y_min, y_max)\n",
        "\n",
        "# Dividir el eje X en 5 partes (6 ticks) y el eje Y en 5 partes (6 ticks)\n",
        "x_ticks = np.linspace(x_min, x_max, 6)\n",
        "y_ticks = np.linspace(y_min, y_max, 6)\n",
        "\n",
        "# Asignar los ticks a los ejes\n",
        "ax.set_xticks(x_ticks)\n",
        "ax.set_yticks(y_ticks)\n",
        "\n",
        "# Activar la grilla para mostrar las divisiones\n",
        "ax.grid(True)\n",
        "\n",
        "# Etiquetas y título para la gráfica\n",
        "ax.set_xlabel(\"Posición\")\n",
        "ax.set_ylabel(\"Velocidad\")\n",
        "ax.set_title(\"Discretización de las observaciones (Posición, Velocidad)\")\n",
        "\n",
        "# Mostrar la gráfica\n",
        "plt.show()"
      ],
      "metadata": {
        "colab": {
          "base_uri": "https://localhost:8080/",
          "height": 333
        },
        "cellView": "form",
        "id": "kynOGBn8dU21",
        "outputId": "e13b1e35-2dd0-4afd-81ca-97ff432cb88c"
      },
      "execution_count": 5,
      "outputs": [
        {
          "output_type": "display_data",
          "data": {
            "text/plain": [
              "<Figure size 400x300 with 1 Axes>"
            ],
            "image/png": "[encoded data removed]"
          },
          "metadata": {}
        }
      ]
    },
    {
      "cell_type": "markdown",
      "metadata": {
        "id": "Qo3ssx5cvgqM"
      },
      "source": [
        "### Creamos *una* agregación de estados\n",
        "\n",
        "- Necesitamos hacer un Wrapper sobre el espacio de observaciones\n",
        "- Vamos a discritizar para trabajar con 400 estados"
      ]
    },
    {
      "cell_type": "code",
      "execution_count": 106,
      "metadata": {
        "id": "IVjaqy9FvgqM"
      },
      "outputs": [],
      "source": [
        "#@title Extensión de la calse ObservationWrapper de Gymnasium para discretizar estados continuos\n",
        "\n",
        "# https://gymnasium.farama.org/tutorials/gymnasium_basics/implementing_custom_wrappers/\n",
        "\n",
        "\n",
        "# Definimos una clase que hereda de gym.ObservationWrapper, la cual nos permite modificar las observaciones que devuelve el entorno.\n",
        "class StateAggregationEnv(gym.ObservationWrapper):\n",
        "\n",
        "\n",
        "    def __init__(self, env, bins, low, high):\n",
        "        # Constructor de la clase. Recibe:\n",
        "        # - env: el entorno original de Gym que se va a envolver.\n",
        "        # - bins: un array (o lista) que indica el número de intervalos (o \"cubos\") para discretizar en cada dimensión.\n",
        "        # - low: los valores mínimos para cada dimensión de la observación.\n",
        "        # - high: los valores máximos para cada dimensión de la observación.\n",
        "        # Llamamos al constructor de la clase padre (ObservationWrapper) pasando el entorno original.\n",
        "        super().__init__(env)  # Hay que invocar siempre al super()\n",
        "\n",
        "        # En el caso del coche:\n",
        "        # low=[-1.2, -0.07], high=[0.6, 0.7], bins=[20, 20]\n",
        "\n",
        "        # Creamos \"cubos\" o \"buckets\" para cada dimensión.\n",
        "        # Usamos np.linspace para generar una secuencia de números entre el valor mínimo (j) y el valor máximo (k)\n",
        "        # Se crean (l - 1) divisiones, donde l es el número de bins especificados para esa dimensión.\n",
        "        # La función zip(low, high, bins) recorre en paralelo cada valor mínimo, máximo y cantidad de bins.\n",
        "        self.buckets = [np.linspace(j, k, l - 1) for j, k, l in zip(low, high, bins)]\n",
        "\n",
        "        # En el caso del coche, habrá \"2 linspace (arrays)\"\n",
        "        # Un array es [-1.2, -1,1, ...., 0.5, 0.6] Con 20 valores\n",
        "        # Otro array es [-0.07, -0.06, ..., 0.06, 0.07]  Con 20 valores\n",
        "\n",
        "        # Definimos el espacio de observación discreto. Usamos gym.spaces.MultiDiscrete,\n",
        "        # el cual define un espacio de observaciones con múltiples dimensiones discretas.\n",
        "        # MultiDiscrete es un producto cartesiano de distintos espacios discretos. Aquí aplicamos dos.\n",
        "        # nvec toma como argumento un vector o lista con el número de valores discretos que habrá en cada dimensión.\n",
        "        # Convertimos bins a lista.\n",
        "        self.observation_space = gym.spaces.MultiDiscrete(nvec=bins.tolist())\n",
        "\n",
        "    # Método que se encarga de transformar la observación continua del entorno original\n",
        "    # a una observación discretizada según los \"cubos\" definidos.\n",
        "    def observation(self, obs):  # Hay  que sobreescribir necesariamente este método.\n",
        "        # Para cada dimensión de la observación, usamos np.digitize para encontrar en qué intervalo (bucket) cae el valor.\n",
        "        # np.digitize devuelve el índice del cubo al que pertenece el valor.\n",
        "        # La función zip(obs, self.buckets) recorre cada valor de la observación y su correspondiente bucket.\n",
        "        indices = tuple(np.digitize(i, b) for i, b in zip(obs, self.buckets))\n",
        "\n",
        "        # Retornamos la tupla de índices, que representa el estado discretizado.\n",
        "        return indices\n"
      ]
    },
    {
      "cell_type": "code",
      "execution_count": 7,
      "metadata": {
        "id": "GNAXqTtlvgqN",
        "colab": {
          "base_uri": "https://localhost:8080/"
        },
        "outputId": "48388ae8-4142-48c2-a3fa-44ccf727334f"
      },
      "outputs": [
        {
          "output_type": "execute_result",
          "data": {
            "text/plain": [
              "[array([-1.20000005, -1.10000004, -1.00000004, -0.90000004, -0.80000003,\n",
              "        -0.70000003, -0.60000002, -0.50000002, -0.40000002, -0.30000001,\n",
              "        -0.20000001, -0.1       ,  0.        ,  0.1       ,  0.20000001,\n",
              "         0.30000001,  0.40000002,  0.50000002,  0.60000002]),\n",
              " array([-0.07      , -0.06222222, -0.05444444, -0.04666667, -0.03888889,\n",
              "        -0.03111111, -0.02333333, -0.01555556, -0.00777778,  0.        ,\n",
              "         0.00777778,  0.01555556,  0.02333333,  0.03111111,  0.03888889,\n",
              "         0.04666667,  0.05444444,  0.06222222,  0.07      ])]"
            ]
          },
          "metadata": {},
          "execution_count": 7
        }
      ],
      "source": [
        "#@title Dividimos cada dimensión en 20 intervalos. Al nuevo espacio lo llamaremos *saenv*\n",
        "\n",
        "bins = np.array([20, 20])\n",
        "low = env.observation_space.low\n",
        "high = env.observation_space.high\n",
        "saenv = StateAggregationEnv(env, bins=bins, low=low, high=high)\n",
        "saenv.buckets"
      ]
    },
    {
      "cell_type": "markdown",
      "metadata": {
        "id": "iGyKnzn6vgqN"
      },
      "source": [
        "### Comparamos el entorno original con el entorno con estados agregados"
      ]
    },
    {
      "cell_type": "code",
      "execution_count": 107,
      "metadata": {
        "id": "9csRyU1SvgqN",
        "colab": {
          "base_uri": "https://localhost:8080/"
        },
        "outputId": "85b780f0-96de-4793-f7a7-267f78eceb9b"
      },
      "outputs": [
        {
          "output_type": "stream",
          "name": "stdout",
          "text": [
            "El espacio de observaciones original es: Box([-1.2  -0.07], [0.6  0.07], (2,), float32), \n",
            "Un estado para este espacio es: [-0.67068034 -0.05055468]\n",
            "El espacio de estados modificado es: MultiDiscrete([20 20]), \n",
            "Un estado para este espacio es: [16 12]\n"
          ]
        }
      ],
      "source": [
        "print(f\"El espacio de observaciones original es: {env.observation_space}, \\n\\\n",
        "Un estado para este espacio es: {env.observation_space.sample()}\")\n",
        "print(f\"El espacio de estados modificado es: {saenv.observation_space}, \\n\\\n",
        "Un estado para este espacio es: {saenv.observation_space.sample()}\")"
      ]
    },
    {
      "cell_type": "markdown",
      "source": [
        "Ya podemos trabajar con los algoritmos tabulares como SARSA o Q-Learning.\n",
        "\n",
        "\n",
        "Ahora, nuestra función $Q$ es $Q(s,a)=Q((s_1, s_2), a)$. Donde $a$ es una de las 3 posibles acciones que se puede tomar en el estado (pos, vel) y $(s_1, s_2)$ son las coordenadas en cada dimensión del espacio discretizado. Cada dimensión se ha dividido en 20 subintervalos. Queremos la siguiente tabla de valores Q\n",
        "\n",
        "| Posición | Velocidad | Acción | Q(s, a) |\n",
        "|--------|-----------|--------|----- |\n",
        "| 1  | 1 | 0 | Q(1,1,0) |\n",
        "| 1  | 1 | 1 | Q(1,1,1) |\n",
        "| 1  | 1 | 2 | Q(1,1,2) |\n",
        "|..| .. | |\n",
        "| 20 | 20 | 2 | Q(20,20,2) |\n",
        "\n",
        "\n",
        "La tabla de valores inicial, para este caso, sería:\n",
        "\n",
        "```\n",
        "action_values_Q = np.zeros((20,20, 3))\n",
        "```\n",
        "\n",
        "\n",
        "\n",
        "Para conocer el resultado de una acción:\n",
        "```\n",
        "next_state, reward, done, _, _ = saenv.step(action)\n",
        "```\n",
        "\n",
        "Este resultado lo podremos usar, por ejemplo, para SARSA como:\n",
        "\n",
        "```\n",
        "qsa = action_values_Q[state][action]\n",
        "next_qsa = action_values_Q[next_state][next_action]\n",
        "action_values_Q[state][action] = qsa + alpha * (reward + gamma * next_qsa - qsa)\n",
        "```\n",
        "\n",
        "\n",
        "En cuanto a cómo elegir la acción a tomar se puede usar el siguiente código\n",
        "\n",
        "```\n",
        "def policy(state, epsilon=0.1):\n",
        "    if np.random.random() < epsilon:\n",
        "        return np.random.randint(3)  # Hay 3 acciones posibles: 0, 1, 2.\n",
        "    else:\n",
        "        av = action_values[state]\n",
        "        return np.random.choice(np.flatnonzero(av == av.max()))\n",
        "```\n",
        "\n",
        "Si `av=[3.0, 2.0, 3.0]`, el máximo es `3` con índices `[0,2]=np.flatnonzero(av == av.max())`. Entonces, `np.random.choice([0,2])` elige uno al azar.\n",
        "\n"
      ],
      "metadata": {
        "id": "zvlp8u1glmTj"
      }
    },
    {
      "cell_type": "markdown",
      "metadata": {
        "id": "W47pYQdCvgqO"
      },
      "source": [
        "<br><br><br><br>"
      ]
    },
    {
      "cell_type": "markdown",
      "metadata": {
        "id": "OVg1SvxOvgqO"
      },
      "source": [
        "## Tile Coding\n",
        "\n",
        "Es una generalización de Agregación. En este contexto una agregación se llama rejilla (tiling), lo que divide el espacio continuo en regiones o \"tiles\" (azulejos).\n",
        "\n",
        "La idea principal es cubrir el espacio de estados con varias rejillas (tilings) que se superponen. Cada rejilla divide el espacio en celdas (tiles) y está ligeramente desplazada respecto a las otras. Esto permite que cada punto del espacio se asocie a varios tiles, uno por cada rejilla.\n",
        "\n",
        "Para un estado dado, se determina en qué tile cae en cada una de las rejillas. La representación final del estado se construye mediante un vector binario (o vector de características), donde cada componente indica si un tile específico está activo (por ejemplo, con valor 1) o no (valor 0).\n"
      ]
    },
    {
      "cell_type": "code",
      "source": [
        "#@title Por ejemplo, podemos generar 2 tilings sbore el espacio $[-1.2, 0.6]\\times [-0.07, 0.07]$ Cada color es un mosaico.\n",
        "\n",
        "\n",
        "# Parámetros del espacio\n",
        "x_min, x_max = -1.2, 0.6    # Rango para la posición\n",
        "y_min, y_max = -0.07, 0.07  # Rango para la velocidad\n",
        "\n",
        "# Número de celdas en cada dimensión y tilings\n",
        "num_cells = 5       # se dividen en 5 celdas (25 posibles regiones)\n",
        "num_tilings = 2     # cantidad de tilings\n",
        "\n",
        "# Tamaño de cada celda\n",
        "dx = (x_max - x_min) / num_cells\n",
        "dy = (y_max - y_min) / num_cells\n",
        "\n",
        "# Colores para cada tiling\n",
        "colors = ['red', 'green', 'blue', 'orange']\n",
        "\n",
        "# Crear la figura y el eje\n",
        "fig, ax = plt.subplots(figsize=(6, 5))\n",
        "ax.set_xlim(x_min, x_max)\n",
        "ax.set_ylim(y_min, y_max)\n",
        "ax.set_xlabel(\"Posición\")\n",
        "ax.set_ylabel(\"Velocidad\")\n",
        "ax.set_title(\"Superposición de 2 Tilings\")\n",
        "\n",
        "# Dibujar cada tiling con un offset progresivo\n",
        "for i in range(num_tilings):\n",
        "    # Calcular el offset para este tiling (una fracción del tamaño de celda)\n",
        "    offset_x = (i / num_tilings) * dx\n",
        "    offset_y = (i / num_tilings) * dy\n",
        "\n",
        "    # Calcular las posiciones de las líneas de la grilla para cada tiling.\n",
        "    # Se extiende ligeramente el rango para que se vean las líneas desplazadas.\n",
        "    x_lines = np.arange(x_min + offset_x/(i+1), x_max + dx, dx)\n",
        "    y_lines = np.arange(y_min + offset_y-offset_y/((2*i+1)), y_max + dy, dy)\n",
        "\n",
        "    # Dibujar líneas verticales\n",
        "    for xv in x_lines:\n",
        "        ax.axvline(x=xv, color=colors[i], linestyle='--', alpha=0.7, label=f'Tiling {i+1}' if xv==x_lines[0] else \"\")\n",
        "    # Dibujar líneas horizontales\n",
        "    for yv in y_lines:\n",
        "        ax.axhline(y=yv, color=colors[i], linestyle='--', alpha=0.7)\n",
        "\n",
        "# Mostrar leyenda (cada tiling se etiqueta una sola vez)\n",
        "ax.legend()\n",
        "plt.show()\n"
      ],
      "metadata": {
        "cellView": "form",
        "colab": {
          "base_uri": "https://localhost:8080/",
          "height": 488
        },
        "id": "bN3oxgSktXpE",
        "outputId": "6059699a-d958-4501-d82a-62908dbd0d4d"
      },
      "execution_count": 24,
      "outputs": [
        {
          "output_type": "display_data",
          "data": {
            "text/plain": [
              "<Figure size 600x500 with 1 Axes>"
            ],
            "image/png": "[encoded data removed]"
          },
          "metadata": {}
        }
      ]
    },
    {
      "cell_type": "markdown",
      "metadata": {
        "id": "ZOggOxgHvgqO"
      },
      "source": [
        "### Creamos una Tile Coding de los estados\n",
        "\n",
        "- Necesitamos hacer un Wrapper sobre el espacio de observaciones\n",
        "- Vamos a generar algunos tilings"
      ]
    },
    {
      "cell_type": "markdown",
      "metadata": {
        "id": "dbbJcOtCvgqO"
      },
      "source": [
        "### Creamos el Tile Coding wrapper"
      ]
    },
    {
      "cell_type": "code",
      "execution_count": 110,
      "metadata": {
        "id": "HZls8wqNvgqO",
        "cellView": "form"
      },
      "outputs": [],
      "source": [
        "#@title Extensión de la clase ObservationWrapper de Gymnasium para discretizar estados continuos\n",
        "\n",
        "# https://gymnasium.farama.org/tutorials/gymnasium_basics/implementing_custom_wrappers/\n",
        "\n",
        "\n",
        "# Definimos una clase que hereda de gym.ObservationWrapper, la cual nos permite modificar las observaciones que devuelve el entorno.\n",
        "\n",
        "class TileCodingEnv(ObservationWrapper):\n",
        "    \"\"\"\n",
        "    TileCodingEnv es un envoltorio para un entorno Gym que aplica la técnica de Tile Coding.\n",
        "    Esta técnica discretiza observaciones continuas en múltiples rejillas (tilings) desplazadas,\n",
        "    permitiendo representar el espacio de estados de forma que se faciliten la generalización y el aprendizaje.\n",
        "    \"\"\"\n",
        "\n",
        "    def __init__(self, env, bins, low, high, n=4):\n",
        "        \"\"\"\n",
        "        Inicializa el entorno env con tile coding.\n",
        "\n",
        "        Parámetros:\n",
        "        - env: entorno original de Gym.\n",
        "        - bins: array o lista con el número de intervalos (bins) que hay que particionar cada dimensión.\n",
        "        - low: array con el límite inferior para cada dimensión.\n",
        "        - high: array con el límite superior para cada dimensión.\n",
        "        - n: número de tilings (rejillas) a crear (por defecto 4).\n",
        "\n",
        "        Se llama al método _create_tilings para generar las rejillas desplazadas.\n",
        "        \"\"\"\n",
        "        super().__init__(env)  # Llama al constructor de la clase padre ObservationWrapper.\n",
        "        self.tilings = self._create_tilings(bins, high, low, n)  # Crea y almacena las tilings.\n",
        "        # el vector de observación tendrá C componentes. Por ejemplo, para 2 dimensiones × 4 tilings = C = 8.\n",
        "        self.observation_space = gym.spaces.MultiDiscrete(nvec=bins.tolist()*n)\n",
        "\n",
        "    def observation(self, obs):  # Es necesario sobreescribir este método de ObservationWrapper\n",
        "        \"\"\"\n",
        "        Transforma una observación continua en una representación discreta usando tile coding.\n",
        "\n",
        "        Parámetro:\n",
        "        - obs: observación continua proveniente del entorno.\n",
        "\n",
        "        Para cada tiling (rejilla) en self.tilings, se determina el índice del tile en el que\n",
        "        cae cada componente de la observación mediante np.digitize. Se devuelve una lista de\n",
        "        tuplas de índices, una por cada tiling.\n",
        "        \"\"\"\n",
        "        indices = []  # Lista que almacenará los índices discretizados para cada tiling.\n",
        "        for t in self.tilings:\n",
        "            # Para cada tiling 't', se calcula el índice en el que se encuentra cada componente de la observación.\n",
        "            tiling_indices = tuple(np.digitize(i, b) for i, b in zip(obs, t))\n",
        "            indices.append(tiling_indices)  # Se agrega la tupla de índices correspondiente a la tiling actual.\n",
        "        return indices  # Retorna la lista de índices de todas las tilings.\n",
        "\n",
        "    def _create_tilings(self, bins, high, low, n):\n",
        "        \"\"\"\n",
        "        Crea 'n' tilings (rejillas) desplazadas para el tile coding.\n",
        "\n",
        "        Parámetros:\n",
        "        - bins: número de intervalos (bins) en cada dimensión.\n",
        "        - high: array con el límite superior para cada dimensión.\n",
        "        - low: array con el límite inferior para cada dimensión.\n",
        "        - n: número de tilings a crear.\n",
        "\n",
        "        El proceso consiste en:\n",
        "         1. Generar un vector de desplazamientos base (displacement_vector) para cada dimensión.\n",
        "         2. Para cada tiling, se ajustan los límites 'low' y 'high' añadiéndoles un pequeño desplazamiento aleatorio.\n",
        "         3. Se calculan los tamaños de los segmentos en cada dimensión (segment_sizes).\n",
        "         4. Se determinan desplazamientos específicos para cada dimensión y se aplican a los límites.\n",
        "         5. Finalmente, se generan los buckets (límites discretos) para cada dimensión usando np.linspace.\n",
        "\n",
        "        Retorna:\n",
        "        - tilings: una lista donde cada elemento es una tiling (lista de arrays de buckets para cada dimensión).\n",
        "        \"\"\"\n",
        "        # Se genera un vector de desplazamientos en cada dimensión en base a los números impares.\n",
        "        # P.e. Si hay 2 dimensiones (len(bins) == 2): np.arange(1, 2 * 2, 2) -> np.arange(1, 4, 2) devuelve [1, 3]\n",
        "        #      Si la dimensión 1 se desplaza en 1 unidad, en la dimensión 2 se desplazará en 3 unidades.\n",
        "        # P.e. Si hay 3 dimensiones (len(bins) == 3): np.arange(1, 2 * 3, 2) -> np.arange(1, 6, 2) devuelve [1, 3, 5]\n",
        "        # P.e. Si hay 4 dimensiones (len(bins) == 4): np.arange(1, 2 * 4, 2) -> np.arange(1, 8, 2) devuelve [1, 3, 5, 7]\n",
        "        # Y así sucesivamente.\n",
        "        # displacement_vector se ajusta automáticamente generando un array de números impares\n",
        "        # Estos valores se usan posteriormente para calcular los desplazamientos específicos en cada dimensión al crear las tilings (rejillas).\n",
        "        # ¿Por qué esos valores? Porque son los recomendados: los primeros números impares.\n",
        "        displacement_vector = np.arange(1, 2 * len(bins), 2)\n",
        "\n",
        "\n",
        "        tilings = []  # Lista que almacenará todas las tilings generadas.\n",
        "        for i in range(1, n + 1):\n",
        "            # Para cada tiling 'i', se calculan nuevos límites 'low_i' y 'high_i' con un desplazamiento aleatorio.\n",
        "            # El desplazamiento aleatorio se basa en el 20% de los límites originales.\n",
        "            low_i = low - random.random() * 0.2 * low\n",
        "            high_i = high + random.random() * 0.2 * high\n",
        "\n",
        "            # Vamos a calcular el desplazamiento específico para cada dimensión y cada mosaico.\n",
        "\n",
        "            # Antes calculamos displacement_vector, que nos indica el desplazamiento en cada dimensión.\n",
        "            # Como tenemos varios mosaicos, cada uno se tendrá que desplazar\n",
        "            # en la mismas cantidades con respecto al mosaico anterior.\n",
        "            # Esto se puede conseguir multiplicando el displacement_vector por el número de mosaico (i),\n",
        "            # pero se toma el módulo n (número total de mosaicos).\n",
        "            # De esta forma el desplazamiento de cada mosaico es diferente, dentro del rango [0, n-1]\n",
        "\n",
        "            # P.e. Para n=4 mosaicos, y dos dimensiones, los vectores de desplazamiento de cada mosaico son:\n",
        "            # i = 1: [1, 3] = [1, 3] * 1 % 4 = [1, 3] % 4\n",
        "            # i = 2: [2, 2] = [1, 3] * 2 % 4 = [2, 6] % 4\n",
        "            # i = 3: [3, 1] = [1, 3] * 3 % 4 = [3, 9] % 4\n",
        "            # i = 4: [0, 0] = [1, 3] * 4 % 4 = [4, 12] % 4\n",
        "            displacements = displacement_vector * i % n\n",
        "\n",
        "            # Pero hay que escalar el desplazamiento a unidades reales en cada dimensión.\n",
        "            # Para ello necesitamos calcular el tamaño de cada segmento (intervalo) en cada dimensión.\n",
        "            segment_sizes = (high_i - low_i) / bins\n",
        "\n",
        "            # Entonces usamos una fracción del tamaño del segmento para desplazar cada mosaico.\n",
        "            # La fracción del tamaño del segmento viene dado por el tamaño del segmento dividido por el número de mosaicos.\n",
        "            # Por ejemplo, si el tamaño de la celda es 0.5 en la primera dimensión y se consideran n=4 mosaicos, la fracción es 0.5/4=0.125\n",
        "            # Según se ha calculado anteriormente, en el vector de desplazamiento,\n",
        "            # la primera dimensión se desplaza en 1, 2, 3 y 0 unidades para los mosaicos 1, 2, 3, y 4, respectivamente.\n",
        "            # Como la unidad es 0.125, entonces la primera dimensión de cada mosaico se desplaza en las cantidades:\n",
        "            # 0.125 = 1 * 0.125,  0.25 = 2 * 0.125, 0.375 = 3 * 0.125, y  0 = 0 * 0.125.\n",
        "            # Lo mismo se haría con el resto de dimensiones. En forma vectorial:\n",
        "            # Es decir, el desplazamiento de cada mosaico en la primera dimensión es:\n",
        "            # Tiling 1, [1, 3]: [1 * 0.125, 3 * 0.05] = [0.125, 0.15]\n",
        "            # Tiling 2, [2, 2]: [2 * 0.125, 2 * 0.05] = [0.25, 0.10]\n",
        "            # Tiling 3, [3, 1]: [3 * 0.125, 1 * 0.05] = [0.375, 0.05]\n",
        "            # Tiling 4  [0, 0]: [0 * 0.125, 0 * 0.05] = [0, 0]\n",
        "            displacements = displacements * (segment_sizes / n)\n",
        "\n",
        "            # Se aplican los desplazamientos a los límites inferiores y superiores.\n",
        "            low_i += displacements\n",
        "            high_i += displacements\n",
        "\n",
        "            # Para cada dimensión, se crean los buckets que dividen el intervalo de low_i a high_i en 'bins' partes,\n",
        "            # generando 'l-1' puntos (límites) para cada dimensión.\n",
        "            buckets_i = [np.linspace(j, k, l - 1) for j, k, l in zip(low_i, high_i, bins)]\n",
        "\n",
        "            # Se añade la tiling actual (lista de buckets para cada dimensión) a la lista de tilings.\n",
        "            tilings.append(buckets_i)\n",
        "\n",
        "        return tilings  # Retorna la lista completa de tilings."
      ]
    },
    {
      "cell_type": "code",
      "execution_count": 118,
      "metadata": {
        "id": "zo286x38vgqO",
        "colab": {
          "base_uri": "https://localhost:8080/"
        },
        "outputId": "d8af0266-8805-4585-84db-e420c55fea04"
      },
      "outputs": [
        {
          "output_type": "execute_result",
          "data": {
            "text/plain": [
              "([(6, 8), (6, 8), (6, 9), (7, 9)], {})"
            ]
          },
          "metadata": {},
          "execution_count": 118
        }
      ],
      "source": [
        "#@title Generamos 4 mosaicos (tilings) con 20x20 intervalos. Al nuevo espacio lo llamaremos *tcenv*\n",
        "tilings = 4\n",
        "bins = np.array([20, 20])\n",
        "low = env.observation_space.low\n",
        "high = env.observation_space.high\n",
        "tcenv = TileCodingEnv(env, bins=bins, low=low, high=high, n=tilings)"
      ]
    },
    {
      "cell_type": "markdown",
      "metadata": {
        "id": "iJ4JBdNTvgqO"
      },
      "source": [
        "### Comparamos el entorno original con el entorno con estados agregados"
      ]
    },
    {
      "cell_type": "code",
      "execution_count": 121,
      "metadata": {
        "id": "0Bs_FL8jvgqO",
        "colab": {
          "base_uri": "https://localhost:8080/"
        },
        "outputId": "76eafe99-79fb-414c-9929-dcf6a60cc9b0"
      },
      "outputs": [
        {
          "output_type": "stream",
          "name": "stdout",
          "text": [
            "El espacio de observaciones original es: Box([-1.2  -0.07], [0.6  0.07], (2,), float32), \n",
            "Un estado para este espacio es: (array([-0.5477421, -0.0013848], dtype=float32), -1.0, False, False, {})\n",
            "El espacio de estados modificado es: MultiDiscrete([20 20 20 20 20 20 20 20]), \n",
            "Un estado para este nuevo espacio es: [(6, 8), (6, 8), (6, 9), (7, 9)] \n",
            "Cada pareja es la 'celda' correspondiente a cada mosaico\n"
          ]
        }
      ],
      "source": [
        "print(f\"El espacio de observaciones original es: {env.observation_space}, \\n\\\n",
        "Un estado para este espacio es: {env.step(env.action_space.sample())}\")\n",
        "print(f\"El espacio de estados modificado es: {tcenv.observation_space}, \\n\\\n",
        "Un estado para este nuevo espacio es: {tcenv.step(tcenv.action_space.sample())[0]} \\n\\\n",
        "Cada pareja es la 'celda' correspondiente a cada mosaico\")"
      ]
    },
    {
      "cell_type": "markdown",
      "source": [
        "Ya podemos trabajar con los algoritmos tabulares como SARSA o Q-Learning.\n",
        "\n",
        "\n",
        "Ahora, nuestra función $Q$ es $Q(m,s,a)=Q(m,(s_1, s_2), a)$. Donde $a$ es una de las 3 posibles acciones que se puede tomar en el estado (pos, vel), $(s_1, s_2)$ son las coordenadas en cada dimensión del espacio discretizado según el mosaico $m$.\n",
        "\n",
        "En cada mosaico, cada dimensión se ha dividido en 20 subintervalos. Queremos la siguiente tabla de valores Q\n",
        "\n",
        "|Mosaico | Posición | Velocidad | Acción | Q(m, s, a) |\n",
        "|--------|--------|-----------|--------|----- |\n",
        "| 1  | 1  | 1 | 0 | Q(1,1,1,0) |\n",
        "| 1  | 1  | 1 | 1 | Q(1,1,1,1) |\n",
        "| 1  | 1  | 1 | 2 | Q(1,1,1,2) |\n",
        "| |..| .. | |\n",
        "4 | 20 | 20 | 2 | Q(4,20,20,2) |\n",
        "\n",
        "\n",
        "La tabla de valores inicial, para este caso, sería:\n",
        "\n",
        "```\n",
        "mosaicos = 4\n",
        "action_values_Q = np.zeros((mosaicos, 20,20, 3))\n",
        "```\n",
        "\n",
        "\n",
        "\n",
        "Para conocer el resultado de una acción:\n",
        "```\n",
        "next_state, reward, done, _, _ = tcenv.step(action)\n",
        "```\n",
        "\n",
        "Este resultado lo podremos usar, por ejemplo, para SARSA. Para cada mosaico $k=1, 2, ..$ actualizamos su función Q como:\n",
        "\n",
        "```\n",
        "qsa = action_values_Q[k][state][action]\n",
        "next_qsa = action_values_Q[k][next_state][next_action]\n",
        "action_values_Q[k][state][action] = qsa + alpha * (reward + gamma * next_qsa - qsa)\n",
        "```\n",
        "\n",
        "\n",
        "En cuanto a cómo elegir la acción a tomar se puede usar el siguiente código:\n",
        "\n",
        "```\n",
        "def policy(state, epsilon=0.1):\n",
        "    if np.random.random() < epsilon:\n",
        "        return np.random.randint(3) # Selecciona una acción al azar\n",
        "    else:\n",
        "        av_list = []\n",
        "        for k, idx in enumerate(state):\n",
        "            av = action_values[k][idx]\n",
        "            av_list.append(av)\n",
        "\n",
        "        av = np.mean(av_list, axis=0)\n",
        "        return np.random.choice(np.flatnonzero(av==av.max()))\n",
        "```\n",
        "\n",
        "`av_list` es una lista de la forma `av_list=[[1.0, 2.0, 3.0], [3.0, 2.0, 3.0], ...]` con tantos elementos como mosaicos haya.\n",
        "\n",
        "`np.mean(av_list, axis=0)` calcula la media de los valores `Q`. Por ejemplo: `[(1.0+3.0)/2, (2.0+2.0)/2, (3.0+3.0)/2]`.\n",
        "\n",
        "\n",
        "`np.random.choice()` elige un índice al azar, si hubiera varios, que se correspondan con los valores de acción máximos (en media).\n"
      ],
      "metadata": {
        "id": "_rvmDZXh-q7k"
      }
    },
    {
      "cell_type": "markdown",
      "metadata": {
        "id": "J_qLNpc0vgqT"
      },
      "source": [
        "\n",
        "## Bibliografía"
      ]
    },
    {
      "cell_type": "markdown",
      "metadata": {
        "id": "R8lQEV8uvgqT"
      },
      "source": [
        "[[1] Reinforcement Learning: An Introduction. Section 9.5.4: Tile Coding](https://web.stanford.edu/class/psych209/Readings/SuttonBartoIPRLBook2ndEd.pdf)"
      ]
    }
  ],
  "metadata": {
    "kernelspec": {
      "display_name": "Python 3",
      "language": "python",
      "name": "python3"
    },
    "language_info": {
      "codemirror_mode": {
        "name": "ipython",
        "version": 3
      },
      "file_extension": ".py",
      "mimetype": "text/x-python",
      "name": "python",
      "nbconvert_exporter": "python",
      "pygments_lexer": "ipython3",
      "version": "3.8.5"
    },
    "colab": {
      "provenance": []
    }
  },
  "nbformat": 4,
  "nbformat_minor": 0
}