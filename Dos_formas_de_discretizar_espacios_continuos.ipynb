{
  "cells": [
    {
      "cell_type": "markdown",
      "metadata": {
        "pycharm": {
          "name": "#%%\n"
        },
        "id": "9vN8l4-UvgqJ"
      },
      "source": [
        "# **Dos Formas de Discretizar Espacios Continuos**\n",
        "\n",
        "En este notebook se muestra como adaptar los espacios de estados continuos para que se puedan aplicar los métodos tabulares de aprendizaje por refuerzo en el entorno Gymnasium\n"
      ]
    },
    {
      "cell_type": "markdown",
      "metadata": {
        "id": "AYUqQBl1vgqM"
      },
      "source": [
        "## Preparamos el entorno que se usará en el notebook\n"
      ]
    },
    {
      "cell_type": "code",
      "execution_count": 1,
      "metadata": {
        "id": "ITOgJ74WvgqL"
      },
      "outputs": [],
      "source": [
        "#@title Importamos las librerias necesarias\n",
        "import random\n",
        "import gymnasium as gym\n",
        "from gymnasium import ObservationWrapper\n",
        "import numpy as np\n",
        "import matplotlib.pyplot as plt\n",
        "from tqdm import tqdm"
      ]
    },
    {
      "cell_type": "code",
      "execution_count": 2,
      "metadata": {
        "id": "Zpo8BQEAvgqM",
        "colab": {
          "base_uri": "https://localhost:8080/",
          "height": 0
        },
        "outputId": "81cd54a4-cbb4-42f9-d95f-5e8c4076b0f6"
      },
      "outputs": [
        {
          "output_type": "execute_result",
          "data": {
            "text/plain": [
              "(array([-0.43300366,  0.        ], dtype=float32), {})"
            ]
          },
          "metadata": {},
          "execution_count": 2
        }
      ],
      "source": [
        "#@title Cargamos el entorno\n",
        "env = gym.make(\"MountainCar-v0\", render_mode=\"rgb_array\")\n",
        "env.reset(seed=100)\n"
      ]
    },
    {
      "cell_type": "markdown",
      "source": [
        "## Este es el entorno"
      ],
      "metadata": {
        "id": "QgSJYG2oLcuF"
      }
    },
    {
      "cell_type": "code",
      "source": [
        "env.render()"
      ],
      "metadata": {
        "id": "DosahbQxLebh",
        "outputId": "96eb130e-6d01-4e3a-97ab-3868ceb59afc",
        "colab": {
          "base_uri": "https://localhost:8080/",
          "height": 440
        }
      },
      "execution_count": 3,
      "outputs": [
        {
          "output_type": "execute_result",
          "data": {
            "text/plain": [
              "array([[[255, 255, 255],\n",
              "        [255, 255, 255],\n",
              "        [255, 255, 255],\n",
              "        ...,\n",
              "        [255, 255, 255],\n",
              "        [255, 255, 255],\n",
              "        [255, 255, 255]],\n",
              "\n",
              "       [[255, 255, 255],\n",
              "        [255, 255, 255],\n",
              "        [255, 255, 255],\n",
              "        ...,\n",
              "        [255, 255, 255],\n",
              "        [255, 255, 255],\n",
              "        [255, 255, 255]],\n",
              "\n",
              "       [[255, 255, 255],\n",
              "        [255, 255, 255],\n",
              "        [255, 255, 255],\n",
              "        ...,\n",
              "        [255, 255, 255],\n",
              "        [255, 255, 255],\n",
              "        [255, 255, 255]],\n",
              "\n",
              "       ...,\n",
              "\n",
              "       [[255, 255, 255],\n",
              "        [255, 255, 255],\n",
              "        [255, 255, 255],\n",
              "        ...,\n",
              "        [255, 255, 255],\n",
              "        [255, 255, 255],\n",
              "        [255, 255, 255]],\n",
              "\n",
              "       [[255, 255, 255],\n",
              "        [255, 255, 255],\n",
              "        [255, 255, 255],\n",
              "        ...,\n",
              "        [255, 255, 255],\n",
              "        [255, 255, 255],\n",
              "        [255, 255, 255]],\n",
              "\n",
              "       [[255, 255, 255],\n",
              "        [255, 255, 255],\n",
              "        [255, 255, 255],\n",
              "        ...,\n",
              "        [255, 255, 255],\n",
              "        [255, 255, 255],\n",
              "        [255, 255, 255]]], dtype=uint8)"
            ],
            "text/html": [
              "<style>\n",
              "      .ndarray_repr .ndarray_raw_data {\n",
              "        display: none;\n",
              "      }\n",
              "      .ndarray_repr.show_array .ndarray_raw_data {\n",
              "        display: block;\n",
              "      }\n",
              "      .ndarray_repr.show_array .ndarray_image_preview {\n",
              "        display: none;\n",
              "      }\n",
              "      </style>\n",
              "      <div id=\"id-2f4c96d8-bcdc-4434-838e-d6a6cc907491\" class=\"ndarray_repr\"><pre>ndarray (400, 600, 3) <button style=\"padding: 0 2px;\">show data</button></pre><img src=\"data:image/png;base64,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\" class=\"ndarray_image_preview\" /><pre class=\"ndarray_raw_data\">array([[[255, 255, 255],\n",
              "        [255, 255, 255],\n",
              "        [255, 255, 255],\n",
              "        ...,\n",
              "        [255, 255, 255],\n",
              "        [255, 255, 255],\n",
              "        [255, 255, 255]],\n",
              "\n",
              "       [[255, 255, 255],\n",
              "        [255, 255, 255],\n",
              "        [255, 255, 255],\n",
              "        ...,\n",
              "        [255, 255, 255],\n",
              "        [255, 255, 255],\n",
              "        [255, 255, 255]],\n",
              "\n",
              "       [[255, 255, 255],\n",
              "        [255, 255, 255],\n",
              "        [255, 255, 255],\n",
              "        ...,\n",
              "        [255, 255, 255],\n",
              "        [255, 255, 255],\n",
              "        [255, 255, 255]],\n",
              "\n",
              "       ...,\n",
              "\n",
              "       [[255, 255, 255],\n",
              "        [255, 255, 255],\n",
              "        [255, 255, 255],\n",
              "        ...,\n",
              "        [255, 255, 255],\n",
              "        [255, 255, 255],\n",
              "        [255, 255, 255]],\n",
              "\n",
              "       [[255, 255, 255],\n",
              "        [255, 255, 255],\n",
              "        [255, 255, 255],\n",
              "        ...,\n",
              "        [255, 255, 255],\n",
              "        [255, 255, 255],\n",
              "        [255, 255, 255]],\n",
              "\n",
              "       [[255, 255, 255],\n",
              "        [255, 255, 255],\n",
              "        [255, 255, 255],\n",
              "        ...,\n",
              "        [255, 255, 255],\n",
              "        [255, 255, 255],\n",
              "        [255, 255, 255]]], dtype=uint8)</pre></div><script>\n",
              "      (() => {\n",
              "      const titles = ['show data', 'hide data'];\n",
              "      let index = 0\n",
              "      document.querySelector('#id-2f4c96d8-bcdc-4434-838e-d6a6cc907491 button').onclick = (e) => {\n",
              "        document.querySelector('#id-2f4c96d8-bcdc-4434-838e-d6a6cc907491').classList.toggle('show_array');\n",
              "        index = (++index) % 2;\n",
              "        document.querySelector('#id-2f4c96d8-bcdc-4434-838e-d6a6cc907491 button').textContent = titles[index];\n",
              "        e.preventDefault();\n",
              "        e.stopPropagation();\n",
              "      }\n",
              "      })();\n",
              "    </script>"
            ]
          },
          "metadata": {},
          "execution_count": 3
        }
      ]
    },
    {
      "cell_type": "markdown",
      "source": [
        "### **Las acciones del entorno**\n",
        "\n",
        "La acciones disponibles son:\n",
        "- 0: Acelerar a la izquierda.\n",
        "- 1: No acelerar\n",
        "- 2: Acelerar a la derecha"
      ],
      "metadata": {
        "id": "kdWiKaebWztR"
      }
    },
    {
      "cell_type": "code",
      "source": [
        "env.action_space"
      ],
      "metadata": {
        "colab": {
          "base_uri": "https://localhost:8080/",
          "height": 0
        },
        "id": "XqboAsIbW_nV",
        "outputId": "05fa0a1e-fab0-4d5e-bce5-c71b800600bd"
      },
      "execution_count": 4,
      "outputs": [
        {
          "output_type": "execute_result",
          "data": {
            "text/plain": [
              "Discrete(3)"
            ]
          },
          "metadata": {},
          "execution_count": 4
        }
      ]
    },
    {
      "cell_type": "markdown",
      "source": [
        "### **Los estados del entorno**\n",
        "\n",
        "Las observaciones es un ndarray con dimensión (2,) donde los elementos se corresponde a los siguientes valores:\n",
        "\n",
        "| Número | Observación                          | Mínimo | Máximo | Unidad        |\n",
        "|--------|--------------------------------------|--------|--------|---------------|\n",
        "| 0      | Posición del coche en el eje x      | -1.2   | 0.6    | posición (m)  |\n",
        "| 1      | Velocidad del coche                 | -0.07  | 0.07   | velocidad (v) |\n"
      ],
      "metadata": {
        "id": "H8RTbpT2XG6L"
      }
    },
    {
      "cell_type": "code",
      "source": [
        "env.observation_space"
      ],
      "metadata": {
        "colab": {
          "base_uri": "https://localhost:8080/",
          "height": 0
        },
        "id": "im6oS8xqXj0b",
        "outputId": "5501b8d5-8ce0-48b9-88a2-4f159df52559"
      },
      "execution_count": 5,
      "outputs": [
        {
          "output_type": "execute_result",
          "data": {
            "text/plain": [
              "Box([-1.2  -0.07], [0.6  0.07], (2,), float32)"
            ]
          },
          "metadata": {},
          "execution_count": 5
        }
      ]
    },
    {
      "cell_type": "markdown",
      "source": [
        "# Discretización usando Agregación\n",
        "\n",
        "Podemos pasar de un espacio continuo de observaciones $[-1.2, 0.6]\\times [-0.07, 0.07]$ a un espacio discreto. Para ello, discretizamos cada dimensión con una partición de intervalos. A esto se le llama **agregación.**\n"
      ],
      "metadata": {
        "id": "yLKp3Xe2dSbI"
      }
    },
    {
      "cell_type": "code",
      "source": [
        "#@title Por ejemplo, podemos discretizar el espacio en solo 25 observaciones\n",
        "# Definir los rangos para la posición y la velocidad\n",
        "x_min, x_max = -1.2, 0.6    # Rango para la posición (eje X)\n",
        "y_min, y_max = -0.07, 0.07  # Rango para la velocidad (eje Y)\n",
        "\n",
        "# Crear la figura y el eje\n",
        "fig, ax = plt.subplots(figsize=(4, 3))\n",
        "\n",
        "# Establecer los límites de los ejes\n",
        "ax.set_xlim(x_min, x_max)\n",
        "ax.set_ylim(y_min, y_max)\n",
        "\n",
        "# Dividir el eje X en 5 partes (6 ticks) y el eje Y en 5 partes (6 ticks)\n",
        "x_ticks = np.linspace(x_min, x_max, 6)\n",
        "y_ticks = np.linspace(y_min, y_max, 6)\n",
        "\n",
        "# Asignar los ticks a los ejes\n",
        "ax.set_xticks(x_ticks)\n",
        "ax.set_yticks(y_ticks)\n",
        "\n",
        "# Activar la grilla para mostrar las divisiones\n",
        "ax.grid(True)\n",
        "\n",
        "# Etiquetas y título para la gráfica\n",
        "ax.set_xlabel(\"Posición\")\n",
        "ax.set_ylabel(\"Velocidad\")\n",
        "ax.set_title(\"Discretización de las observaciones (Posición, Velocidad)\")\n",
        "\n",
        "# Mostrar la gráfica\n",
        "plt.show()"
      ],
      "metadata": {
        "colab": {
          "base_uri": "https://localhost:8080/",
          "height": 333
        },
        "cellView": "form",
        "id": "kynOGBn8dU21",
        "outputId": "5acc871a-e6e1-4754-c78a-bf7fb70af70d"
      },
      "execution_count": 6,
      "outputs": [
        {
          "output_type": "display_data",
          "data": {
            "text/plain": [
              "<Figure size 400x300 with 1 Axes>"
            ],
            "image/png": "[encoded data removed]"
          },
          "metadata": {}
        }
      ]
    },
    {
      "cell_type": "markdown",
      "metadata": {
        "id": "Qo3ssx5cvgqM"
      },
      "source": [
        "### Creamos *una* agregación de estados\n",
        "\n",
        "- Necesitamos hacer un Wrapper sobre el espacio de observaciones\n",
        "- Vamos a discritizar para trabajar con 400 estados. La posición se discretiza en 20 valores y la velocidad en otros 20 valores"
      ]
    },
    {
      "cell_type": "code",
      "execution_count": 7,
      "metadata": {
        "id": "IVjaqy9FvgqM",
        "cellView": "form"
      },
      "outputs": [],
      "source": [
        "#@title Extensión de la clase ObservationWrapper de Gymnasium para discretizar estados continuos\n",
        "\n",
        "# https://gymnasium.farama.org/tutorials/gymnasium_basics/implementing_custom_wrappers/\n",
        "\n",
        "\n",
        "# Definimos una clase que hereda de gym.ObservationWrapper, la cual nos permite modificar las observaciones que devuelve el entorno.\n",
        "class StateAggregationEnv(gym.ObservationWrapper):\n",
        "\n",
        "\n",
        "    def __init__(self, env, bins, low, high):\n",
        "        # Constructor de la clase. Recibe:\n",
        "        # - env: el entorno original de Gym que se va a envolver.\n",
        "        # - bins: un array (o lista) que indica el número de intervalos (o \"cubos\") para discretizar en cada dimensión.\n",
        "        # - low: los valores mínimos para cada dimensión de la observación.\n",
        "        # - high: los valores máximos para cada dimensión de la observación.\n",
        "        # Llamamos al constructor de la clase padre (ObservationWrapper) pasando el entorno original.\n",
        "        super().__init__(env)  # Hay que invocar siempre al super()\n",
        "\n",
        "        # En el caso del coche:\n",
        "        # low=[-1.2, -0.07], high=[0.6, 0.7], bins=[20, 20]\n",
        "\n",
        "        # Creamos \"cubos\" o \"buckets\" para cada dimensión.\n",
        "        # Usamos np.linspace para generar una secuencia de números entre el valor mínimo (j) y el valor máximo (k)\n",
        "        # Se crean (l - 1) divisiones, donde l es el número de bins especificados para esa dimensión.\n",
        "        # La función zip(low, high, bins) recorre en paralelo cada valor mínimo, máximo y cantidad de bins.\n",
        "        self.buckets = [np.linspace(j, k, l - 1) for j, k, l in zip(low, high, bins)]\n",
        "\n",
        "        # En el caso del coche, habrá \"2 linspace (arrays)\"\n",
        "        # Un array es [-1.2, -1,1, ...., 0.5, 0.6] Con 20 valores\n",
        "        # Otro array es [-0.07, -0.06, ..., 0.06, 0.07]  Con 20 valores\n",
        "\n",
        "        # Definimos el espacio de observación discreto. Usamos gym.spaces.MultiDiscrete,\n",
        "        # el cual define un espacio de observaciones con múltiples dimensiones discretas.\n",
        "        # MultiDiscrete es un producto cartesiano de distintos espacios discretos. Aquí aplicamos dos.\n",
        "        # nvec toma como argumento un vector o lista con el número de valores discretos que habrá en cada dimensión.\n",
        "        # Convertimos bins a lista.\n",
        "        self.observation_space = gym.spaces.MultiDiscrete(nvec=bins.tolist())\n",
        "\n",
        "    # Método que se encarga de transformar la observación continua del entorno original\n",
        "    # a una observación discretizada según los \"cubos\" definidos.\n",
        "    def observation(self, obs):  # Hay  que sobreescribir necesariamente este método.\n",
        "        # Para cada dimensión de la observación, usamos np.digitize para encontrar en qué intervalo (bucket) cae el valor.\n",
        "        # np.digitize devuelve el índice del cubo al que pertenece el valor.\n",
        "        # La función zip(obs, self.buckets) recorre cada valor de la observación y su correspondiente bucket.\n",
        "        indices = tuple(np.digitize(i, b) for i, b in zip(obs, self.buckets))\n",
        "\n",
        "        # Retornamos la tupla de índices, que representa el estado discretizado.\n",
        "        return indices\n"
      ]
    },
    {
      "cell_type": "code",
      "execution_count": 8,
      "metadata": {
        "id": "GNAXqTtlvgqN",
        "colab": {
          "base_uri": "https://localhost:8080/",
          "height": 0
        },
        "outputId": "1de72658-8eaa-4bfa-b3fc-f972de0022b2",
        "cellView": "form"
      },
      "outputs": [
        {
          "output_type": "execute_result",
          "data": {
            "text/plain": [
              "[array([-1.20000005, -1.10000004, -1.00000004, -0.90000004, -0.80000003,\n",
              "        -0.70000003, -0.60000002, -0.50000002, -0.40000002, -0.30000001,\n",
              "        -0.20000001, -0.1       ,  0.        ,  0.1       ,  0.20000001,\n",
              "         0.30000001,  0.40000002,  0.50000002,  0.60000002]),\n",
              " array([-0.07      , -0.06222222, -0.05444444, -0.04666667, -0.03888889,\n",
              "        -0.03111111, -0.02333333, -0.01555556, -0.00777778,  0.        ,\n",
              "         0.00777778,  0.01555556,  0.02333333,  0.03111111,  0.03888889,\n",
              "         0.04666667,  0.05444444,  0.06222222,  0.07      ])]"
            ]
          },
          "metadata": {},
          "execution_count": 8
        }
      ],
      "source": [
        "#@title Dividimos cada dimensión en 20 intervalos. Al nuevo espacio lo llamaremos *saenv*\n",
        "\n",
        "bins = np.array([20, 20])\n",
        "low = env.observation_space.low\n",
        "high = env.observation_space.high\n",
        "saenv = StateAggregationEnv(env, bins=bins, low=low, high=high)\n",
        "saenv.buckets"
      ]
    },
    {
      "cell_type": "code",
      "execution_count": 9,
      "metadata": {
        "id": "9csRyU1SvgqN",
        "colab": {
          "base_uri": "https://localhost:8080/",
          "height": 0
        },
        "outputId": "226ef0b8-5c0b-4555-ea2f-9cf473b334b2",
        "cellView": "form"
      },
      "outputs": [
        {
          "output_type": "stream",
          "name": "stdout",
          "text": [
            "El espacio de observaciones original es: Box([-1.2  -0.07], [0.6  0.07], (2,), float32), \n",
            "Un estado para este espacio es: [-0.65679556  0.04957716]\n",
            "El espacio de estados modificado es: MultiDiscrete([20 20]), \n",
            "Un estado para este espacio es: [ 8 11]\n"
          ]
        }
      ],
      "source": [
        "#@title Comparamos el entorno original con el entorno con estados agregados\n",
        "\n",
        "print(f\"El espacio de observaciones original es: {env.observation_space}, \\n\\\n",
        "Un estado para este espacio es: {env.observation_space.sample()}\")\n",
        "print(f\"El espacio de estados modificado es: {saenv.observation_space}, \\n\\\n",
        "Un estado para este espacio es: {saenv.observation_space.sample()}\")"
      ]
    },
    {
      "cell_type": "markdown",
      "source": [
        "## **Cómo usar los desarrollos sobre Agregación**\n",
        "\n",
        "Ya podemos trabajar con los algoritmos tabulares como SARSA o Q-Learning.\n",
        "\n",
        "\n",
        "Ahora, nuestra función $Q$ es $Q(s,a)=Q((s_1, s_2), a)$. Donde $a$ es una de las 3 posibles acciones que se puede tomar en el estado (pos, vel) y $(s_1, s_2)$ son las coordenadas en cada dimensión del espacio discretizado. Cada dimensión se ha dividido en 20 subintervalos. Queremos la siguiente tabla de valores Q\n",
        "\n",
        "| Posición | Velocidad | Acción | Q(s, a) |\n",
        "|--------|-----------|--------|----- |\n",
        "| 1  | 1 | 0 | Q(1,1,0) |\n",
        "| 1  | 1 | 1 | Q(1,1,1) |\n",
        "| 1  | 1 | 2 | Q(1,1,2) |\n",
        "|..| .. | |\n",
        "| 20 | 20 | 2 | Q(20,20,2) |\n",
        "\n",
        "\n",
        "La tabla de valores inicial, para este caso, sería:\n",
        "\n",
        "```\n",
        "action_values_Q = np.zeros((20,20, 3))\n",
        "```\n",
        "\n",
        "\n",
        "\n",
        "Para conocer el resultado de una acción:\n",
        "```\n",
        "next_state, reward, done, _, _ = saenv.step(action)\n",
        "```\n",
        "\n",
        "Este resultado lo podremos usar, por ejemplo, para SARSA como:\n",
        "\n",
        "```\n",
        "qsa = action_values_Q[state][action]\n",
        "next_qsa = action_values_Q[next_state][next_action]\n",
        "action_values_Q[state][action] = qsa + alpha * (reward + gamma * next_qsa - qsa)\n",
        "```\n",
        "\n",
        "\n",
        "En cuanto a cómo elegir la acción a tomar se puede usar el siguiente código\n",
        "\n",
        "```\n",
        "def policy(state, epsilon=0.1):\n",
        "    if np.random.random() < epsilon:\n",
        "        return np.random.randint(3)  # Hay 3 acciones posibles: 0, 1, 2.\n",
        "    else:\n",
        "        av = action_values[state]\n",
        "        return np.random.choice(np.flatnonzero(av == av.max()))\n",
        "```\n",
        "\n",
        "Si `av=[3.0, 2.0, 3.0]`, el máximo es `3` con índices `[0,2]=np.flatnonzero(av == av.max())`. Entonces, `np.random.choice([0,2])` elige uno al azar.\n",
        "\n"
      ],
      "metadata": {
        "id": "zvlp8u1glmTj"
      }
    },
    {
      "cell_type": "markdown",
      "metadata": {
        "id": "W47pYQdCvgqO"
      },
      "source": [
        "<br><br><br><br>"
      ]
    },
    {
      "cell_type": "markdown",
      "metadata": {
        "id": "OVg1SvxOvgqO"
      },
      "source": [
        "# Discretización usando  Tile Coding\n",
        "\n",
        "Es una generalización de Agregación. En este contexto una agregación se llama rejilla (tiling), lo que divide el espacio continuo en regiones o \"tiles\" (azulejos).\n",
        "\n",
        "La idea principal es cubrir el espacio de estados con varias rejillas (tilings) que se superponen. Cada rejilla divide el espacio en celdas (tiles) y está ligeramente desplazada respecto a las otras. Esto permite que cada punto del espacio se asocie a varios tiles, uno por cada rejilla.\n",
        "\n",
        "Para un estado dado, se determina en qué tile cae en cada una de las rejillas. La representación final del estado se construye mediante un vector binario (o vector de características), donde cada componente indica si un tile específico está activo (por ejemplo, con valor 1) o no (valor 0).\n"
      ]
    },
    {
      "cell_type": "code",
      "source": [
        "#@title Por ejemplo, podemos generar 2 tilings sbore el espacio $[-1.2, 0.6]\\times [-0.07, 0.07]$ Cada color es un mosaico.\n",
        "\n",
        "\n",
        "# Parámetros del espacio\n",
        "x_min, x_max = -1.2, 0.6    # Rango para la posición\n",
        "y_min, y_max = -0.07, 0.07  # Rango para la velocidad\n",
        "\n",
        "# Número de celdas en cada dimensión y tilings\n",
        "num_cells = 5       # se dividen en 5 celdas (25 posibles regiones)\n",
        "num_tilings = 2     # cantidad de tilings\n",
        "\n",
        "# Tamaño de cada celda\n",
        "dx = (x_max - x_min) / num_cells\n",
        "dy = (y_max - y_min) / num_cells\n",
        "\n",
        "# Colores para cada tiling\n",
        "colors = ['red', 'green', 'blue', 'orange']\n",
        "\n",
        "# Crear la figura y el eje\n",
        "fig, ax = plt.subplots(figsize=(4, 3))\n",
        "ax.set_xlim(x_min, x_max)\n",
        "ax.set_ylim(y_min, y_max)\n",
        "ax.set_xlabel(\"Posición\")\n",
        "ax.set_ylabel(\"Velocidad\")\n",
        "ax.set_title(\"Superposición de 2 Tilings\")\n",
        "\n",
        "# Dibujar cada tiling con un offset progresivo\n",
        "for i in range(num_tilings):\n",
        "    # Calcular el offset para este tiling (una fracción del tamaño de celda)\n",
        "    offset_x = (i / num_tilings) * dx\n",
        "    offset_y = (i / num_tilings) * dy\n",
        "\n",
        "    # Calcular las posiciones de las líneas de la grilla para cada tiling.\n",
        "    # Se extiende ligeramente el rango para que se vean las líneas desplazadas.\n",
        "    x_lines = np.arange(x_min + offset_x/(i+1), x_max + dx, dx)\n",
        "    y_lines = np.arange(y_min + offset_y-offset_y/((2*i+1)), y_max + dy, dy)\n",
        "\n",
        "    # Dibujar líneas verticales\n",
        "    for xv in x_lines:\n",
        "        ax.axvline(x=xv, color=colors[i], linestyle='--', alpha=0.7, label=f'Tiling {i+1}' if xv==x_lines[0] else \"\")\n",
        "    # Dibujar líneas horizontales\n",
        "    for yv in y_lines:\n",
        "        ax.axhline(y=yv, color=colors[i], linestyle='--', alpha=0.7)\n",
        "\n",
        "# Mostrar leyenda (cada tiling se etiqueta una sola vez)\n",
        "ax.legend()\n",
        "plt.show()\n"
      ],
      "metadata": {
        "cellView": "form",
        "colab": {
          "base_uri": "https://localhost:8080/",
          "height": 334
        },
        "id": "bN3oxgSktXpE",
        "outputId": "a4ceb1a9-20a4-4af4-cb89-dae34165d7b5"
      },
      "execution_count": 10,
      "outputs": [
        {
          "output_type": "display_data",
          "data": {
            "text/plain": [
              "<Figure size 400x300 with 1 Axes>"
            ],
            "image/png": "[encoded data removed]"
          },
          "metadata": {}
        }
      ]
    },
    {
      "cell_type": "markdown",
      "metadata": {
        "id": "ZOggOxgHvgqO"
      },
      "source": [
        "### Creamos una Tile Coding de los estados\n",
        "\n",
        "- Necesitamos hacer un Wrapper sobre el espacio de observaciones\n",
        "- Vamos a generar 4 tilings (mosaicos)."
      ]
    },
    {
      "cell_type": "code",
      "execution_count": 11,
      "metadata": {
        "id": "HZls8wqNvgqO",
        "cellView": "form"
      },
      "outputs": [],
      "source": [
        "#@title Extensión de la clase ObservationWrapper de Gymnasium para discretizar estados continuos\n",
        "\n",
        "# https://gymnasium.farama.org/tutorials/gymnasium_basics/implementing_custom_wrappers/\n",
        "\n",
        "\n",
        "# Definimos una clase que hereda de gym.ObservationWrapper, la cual nos permite modificar las observaciones que devuelve el entorno.\n",
        "\n",
        "class TileCodingEnv(ObservationWrapper):\n",
        "    \"\"\"\n",
        "    TileCodingEnv es un envoltorio para un entorno Gym que aplica la técnica de Tile Coding.\n",
        "    Esta técnica discretiza observaciones continuas en múltiples rejillas (tilings) desplazadas,\n",
        "    permitiendo representar el espacio de estados de forma que se faciliten la generalización y el aprendizaje.\n",
        "    \"\"\"\n",
        "\n",
        "    def __init__(self, env, bins, low, high, n=4):\n",
        "        \"\"\"\n",
        "        Inicializa el entorno env con tile coding.\n",
        "\n",
        "        Parámetros:\n",
        "        - env: entorno original de Gym.\n",
        "        - bins: array o lista con el número de intervalos (bins) que hay que particionar cada dimensión.\n",
        "        - low: array con el límite inferior para cada dimensión.\n",
        "        - high: array con el límite superior para cada dimensión.\n",
        "        - n: número de tilings (rejillas) a crear (por defecto 4).\n",
        "\n",
        "        Se llama al método _create_tilings para generar las rejillas desplazadas.\n",
        "        \"\"\"\n",
        "        super().__init__(env)  # Llama al constructor de la clase padre ObservationWrapper.\n",
        "        self.tilings = self._create_tilings(bins, high, low, n)  # Crea y almacena las tilings.\n",
        "        # el vector de observación tendrá C componentes. Por ejemplo, para 2 dimensiones × 4 tilings = C = 8.\n",
        "        self.observation_space = gym.spaces.MultiDiscrete(nvec=bins.tolist()*n)\n",
        "\n",
        "    def observation(self, obs):  # Es necesario sobreescribir este método de ObservationWrapper\n",
        "        \"\"\"\n",
        "        Transforma una observación continua en una representación discreta usando tile coding.\n",
        "\n",
        "        Parámetro:\n",
        "        - obs: observación continua proveniente del entorno.\n",
        "\n",
        "        Para cada tiling (rejilla) en self.tilings, se determina el índice del tile en el que\n",
        "        cae cada componente de la observación mediante np.digitize. Se devuelve una lista de\n",
        "        tuplas de índices, una por cada tiling.\n",
        "        \"\"\"\n",
        "        indices = []  # Lista que almacenará los índices discretizados para cada tiling.\n",
        "        for t in self.tilings:\n",
        "            # Para cada tiling 't', se calcula el índice en el que se encuentra cada componente de la observación.\n",
        "            tiling_indices = tuple(np.digitize(i, b) for i, b in zip(obs, t))\n",
        "            indices.append(tiling_indices)  # Se agrega la tupla de índices correspondiente a la tiling actual.\n",
        "        return indices  # Retorna la lista de índices de todas las tilings.\n",
        "\n",
        "    def _create_tilings(self, bins, high, low, n):\n",
        "        \"\"\"\n",
        "        Crea 'n' tilings (rejillas) desplazadas para el tile coding.\n",
        "\n",
        "        Parámetros:\n",
        "        - bins: número de intervalos (bins) en cada dimensión.\n",
        "        - high: array con el límite superior para cada dimensión.\n",
        "        - low: array con el límite inferior para cada dimensión.\n",
        "        - n: número de tilings a crear.\n",
        "\n",
        "        El proceso consiste en:\n",
        "         1. Generar un vector de desplazamientos base (displacement_vector) para cada dimensión.\n",
        "         2. Para cada tiling, se ajustan los límites 'low' y 'high' añadiéndoles un pequeño desplazamiento aleatorio.\n",
        "         3. Se calculan los tamaños de los segmentos en cada dimensión (segment_sizes).\n",
        "         4. Se determinan desplazamientos específicos para cada dimensión y se aplican a los límites.\n",
        "         5. Finalmente, se generan los buckets (límites discretos) para cada dimensión usando np.linspace.\n",
        "\n",
        "        Retorna:\n",
        "        - tilings: una lista donde cada elemento es una tiling (lista de arrays de buckets para cada dimensión).\n",
        "        \"\"\"\n",
        "        # Se genera un vector de desplazamientos en cada dimensión en base a los números impares.\n",
        "        # P.e. Si hay 2 dimensiones (len(bins) == 2): np.arange(1, 2 * 2, 2) -> np.arange(1, 4, 2) devuelve [1, 3]\n",
        "        #      Si la dimensión 1 se desplaza en 1 unidad, en la dimensión 2 se desplazará en 3 unidades.\n",
        "        # P.e. Si hay 3 dimensiones (len(bins) == 3): np.arange(1, 2 * 3, 2) -> np.arange(1, 6, 2) devuelve [1, 3, 5]\n",
        "        # P.e. Si hay 4 dimensiones (len(bins) == 4): np.arange(1, 2 * 4, 2) -> np.arange(1, 8, 2) devuelve [1, 3, 5, 7]\n",
        "        # Y así sucesivamente.\n",
        "        # displacement_vector se ajusta automáticamente generando un array de números impares\n",
        "        # Estos valores se usan posteriormente para calcular los desplazamientos específicos en cada dimensión al crear las tilings (rejillas).\n",
        "        # ¿Por qué esos valores? Porque son los recomendados: los primeros números impares.\n",
        "        displacement_vector = np.arange(1, 2 * len(bins), 2)\n",
        "\n",
        "\n",
        "        tilings = []  # Lista que almacenará todas las tilings generadas.\n",
        "        for i in range(1, n + 1):\n",
        "            # Para cada tiling 'i', se calculan nuevos límites 'low_i' y 'high_i' con un desplazamiento aleatorio.\n",
        "            # El desplazamiento aleatorio se basa en el 20% de los límites originales.\n",
        "            low_i = low - random.random() * 0.2 * low\n",
        "            high_i = high + random.random() * 0.2 * high\n",
        "\n",
        "            # Vamos a calcular el desplazamiento específico para cada dimensión y cada mosaico.\n",
        "\n",
        "            # Antes calculamos displacement_vector, que nos indica el desplazamiento en cada dimensión.\n",
        "            # Como tenemos varios mosaicos, cada uno se tendrá que desplazar\n",
        "            # en la mismas cantidades con respecto al mosaico anterior.\n",
        "            # Esto se puede conseguir multiplicando el displacement_vector por el número de mosaico (i),\n",
        "            # pero se toma el módulo n (número total de mosaicos).\n",
        "            # De esta forma el desplazamiento de cada mosaico es diferente, dentro del rango [0, n-1]\n",
        "\n",
        "            # P.e. Para n=4 mosaicos, y dos dimensiones, los vectores de desplazamiento de cada mosaico son:\n",
        "            # i = 1: [1, 3] = [1, 3] * 1 % 4 = [1, 3] % 4\n",
        "            # i = 2: [2, 2] = [1, 3] * 2 % 4 = [2, 6] % 4\n",
        "            # i = 3: [3, 1] = [1, 3] * 3 % 4 = [3, 9] % 4\n",
        "            # i = 4: [0, 0] = [1, 3] * 4 % 4 = [4, 12] % 4\n",
        "            displacements = displacement_vector * i % n\n",
        "\n",
        "            # Pero hay que escalar el desplazamiento a unidades reales en cada dimensión.\n",
        "            # Para ello necesitamos calcular el tamaño de cada segmento (intervalo) en cada dimensión.\n",
        "            segment_sizes = (high_i - low_i) / bins\n",
        "\n",
        "            # Entonces usamos una fracción del tamaño del segmento para desplazar cada mosaico.\n",
        "            # La fracción del tamaño del segmento viene dado por el tamaño del segmento dividido por el número de mosaicos.\n",
        "            # Por ejemplo, si el tamaño de la celda es 0.5 en la primera dimensión y se consideran n=4 mosaicos, la fracción es 0.5/4=0.125\n",
        "            # Según se ha calculado anteriormente, en el vector de desplazamiento,\n",
        "            # la primera dimensión se desplaza en 1, 2, 3 y 0 unidades para los mosaicos 1, 2, 3, y 4, respectivamente.\n",
        "            # Como la unidad es 0.125, entonces la primera dimensión de cada mosaico se desplaza en las cantidades:\n",
        "            # 0.125 = 1 * 0.125,  0.25 = 2 * 0.125, 0.375 = 3 * 0.125, y  0 = 0 * 0.125.\n",
        "            # Lo mismo se haría con el resto de dimensiones. En forma vectorial:\n",
        "            # Es decir, el desplazamiento de cada mosaico en la primera dimensión es:\n",
        "            # Tiling 1, [1, 3]: [1 * 0.125, 3 * 0.05] = [0.125, 0.15]\n",
        "            # Tiling 2, [2, 2]: [2 * 0.125, 2 * 0.05] = [0.25, 0.10]\n",
        "            # Tiling 3, [3, 1]: [3 * 0.125, 1 * 0.05] = [0.375, 0.05]\n",
        "            # Tiling 4  [0, 0]: [0 * 0.125, 0 * 0.05] = [0, 0]\n",
        "            displacements = displacements * (segment_sizes / n)\n",
        "\n",
        "            # Se aplican los desplazamientos a los límites inferiores y superiores.\n",
        "            low_i += displacements\n",
        "            high_i += displacements\n",
        "\n",
        "            # Para cada dimensión, se crean los buckets que dividen el intervalo de low_i a high_i en 'bins' partes,\n",
        "            # generando 'l-1' puntos (límites) para cada dimensión.\n",
        "            buckets_i = [np.linspace(j, k, l - 1) for j, k, l in zip(low_i, high_i, bins)]\n",
        "\n",
        "            # Se añade la tiling actual (lista de buckets para cada dimensión) a la lista de tilings.\n",
        "            tilings.append(buckets_i)\n",
        "\n",
        "        return tilings  # Retorna la lista completa de tilings."
      ]
    },
    {
      "cell_type": "code",
      "execution_count": 12,
      "metadata": {
        "id": "zo286x38vgqO",
        "colab": {
          "base_uri": "https://localhost:8080/",
          "height": 0
        },
        "outputId": "e6cd139f-1ec7-4a60-eafb-217fcdc07d53",
        "cellView": "form"
      },
      "outputs": [
        {
          "output_type": "stream",
          "name": "stdout",
          "text": [
            "Se muestran los 4 mosáicos\n"
          ]
        },
        {
          "output_type": "execute_result",
          "data": {
            "text/plain": [
              "[[array([-1.07566261, -0.97850279, -0.88134297, -0.78418314, -0.68702332,\n",
              "         -0.5898635 , -0.49270368, -0.39554385, -0.29838403, -0.20122421,\n",
              "         -0.10406439, -0.00690456,  0.09025526,  0.18741508,  0.28457491,\n",
              "          0.38173473,  0.47889455,  0.57605437,  0.6732142 ]),\n",
              "  array([-0.0587717 , -0.05099318, -0.04321466, -0.03543613, -0.02765761,\n",
              "         -0.01987909, -0.01210056, -0.00432204,  0.00345648,  0.01123501,\n",
              "          0.01901353,  0.02679205,  0.03457058,  0.0423491 ,  0.05012763,\n",
              "          0.05790615,  0.06568467,  0.0734632 ,  0.08124172])],\n",
              " [array([-1.0680424 , -0.97012651, -0.87221062, -0.77429473, -0.67637885,\n",
              "         -0.57846296, -0.48054707, -0.38263118, -0.28471529, -0.18679941,\n",
              "         -0.08888352,  0.00903237,  0.10694826,  0.20486414,  0.30278003,\n",
              "          0.40069592,  0.49861181,  0.5965277 ,  0.69444358]),\n",
              "  array([-0.061354  , -0.05353452, -0.04571504, -0.03789557, -0.03007609,\n",
              "         -0.02225661, -0.01443713, -0.00661766,  0.00120182,  0.0090213 ,\n",
              "          0.01684078,  0.02466025,  0.03247973,  0.04029921,  0.04811869,\n",
              "          0.05593817,  0.06375764,  0.07157712,  0.0793966 ])],\n",
              " [array([-1.11921334, -1.01687057, -0.9145278 , -0.81218503, -0.70984226,\n",
              "         -0.60749949, -0.50515672, -0.40281394, -0.30047117, -0.1981284 ,\n",
              "         -0.09578563,  0.00655714,  0.10889991,  0.21124268,  0.31358545,\n",
              "          0.41592822,  0.518271  ,  0.62061377,  0.72295654]),\n",
              "  array([-0.06749716, -0.05940812, -0.05131909, -0.04323005, -0.03514102,\n",
              "         -0.02705198, -0.01896295, -0.01087391, -0.00278488,  0.00530416,\n",
              "          0.01339319,  0.02148223,  0.02957126,  0.0376603 ,  0.04574933,\n",
              "          0.05383837,  0.0619274 ,  0.07001644,  0.07810547])],\n",
              " [array([-1.12902284, -1.03183854, -0.93465424, -0.83746994, -0.74028563,\n",
              "         -0.64310133, -0.54591703, -0.44873273, -0.35154843, -0.25436413,\n",
              "         -0.15717983, -0.05999553,  0.03718877,  0.13437307,  0.23155737,\n",
              "          0.32874167,  0.42592597,  0.52311027,  0.62029457]),\n",
              "  array([-0.06585967, -0.05818037, -0.05050107, -0.04282177, -0.03514248,\n",
              "         -0.02746318, -0.01978388, -0.01210458, -0.00442528,  0.00325401,\n",
              "          0.01093331,  0.01861261,  0.02629191,  0.03397121,  0.04165051,\n",
              "          0.0493298 ,  0.0570091 ,  0.0646884 ,  0.0723677 ])]]"
            ]
          },
          "metadata": {},
          "execution_count": 12
        }
      ],
      "source": [
        "#@title Generamos 4 mosaicos (tilings) con 20x20 intervalos. Al nuevo espacio lo llamaremos *tcenv*\n",
        "tilings = 4\n",
        "bins = np.array([20, 20])\n",
        "low = env.observation_space.low\n",
        "high = env.observation_space.high\n",
        "tcenv = TileCodingEnv(env, bins=bins, low=low, high=high)\n",
        "print(\"Se muestran los 4 mosáicos\")\n",
        "tcenv.tilings"
      ]
    },
    {
      "cell_type": "code",
      "execution_count": 13,
      "metadata": {
        "id": "0Bs_FL8jvgqO",
        "colab": {
          "base_uri": "https://localhost:8080/",
          "height": 0
        },
        "outputId": "6309f546-9199-40b3-8aa9-94c9d6a97d01",
        "cellView": "form"
      },
      "outputs": [
        {
          "output_type": "stream",
          "name": "stdout",
          "text": [
            "El espacio de observaciones original es: Box([-1.2  -0.07], [0.6  0.07], (2,), float32), \n",
            "Un estado para este espacio es: (array([-0.4346748 , -0.00167113], dtype=float32), -1.0, False, False, {})\n",
            "El espacio de estados modificado es: MultiDiscrete([20 20 20 20 20 20 20 20]), \n",
            "Un estado para este nuevo espacio es: [(7, 8), (7, 8), (7, 8), (8, 9)] \n",
            "Cada pareja es la 'celda' correspondiente a cada mosaico\n"
          ]
        }
      ],
      "source": [
        "#@title Comparamos el entorno original con el entorno con estados agregados\n",
        "\n",
        "print(f\"El espacio de observaciones original es: {env.observation_space}, \\n\\\n",
        "Un estado para este espacio es: {env.step(env.action_space.sample())}\")\n",
        "print(f\"El espacio de estados modificado es: {tcenv.observation_space}, \\n\\\n",
        "Un estado para este nuevo espacio es: {tcenv.step(tcenv.action_space.sample())[0]} \\n\\\n",
        "Cada pareja es la 'celda' correspondiente a cada mosaico\")"
      ]
    },
    {
      "cell_type": "markdown",
      "source": [
        "## **Cómo usar los desarrollos sobre Tile Coding**\n",
        "\n",
        "\n",
        "Ya podemos trabajar con los algoritmos tabulares como SARSA o Q-Learning.\n",
        "\n",
        "\n",
        "Ahora, nuestra función $Q$ es $Q(m,s,a)=Q(m,(s_1, s_2), a)$. Donde $a$ es una de las 3 posibles acciones que se puede tomar en el estado (pos, vel), $(s_1, s_2)$ son las coordenadas en cada dimensión del espacio discretizado según el mosaico $m$.\n",
        "\n",
        "En cada mosaico, cada dimensión se ha dividido en 20 subintervalos. Queremos la siguiente tabla de valores Q\n",
        "\n",
        "|Mosaico | Posición | Velocidad | Acción | Q(m, s, a) |\n",
        "|--------|--------|-----------|--------|----- |\n",
        "| 1  | 1  | 1 | 0 | Q(1,1,1,0) |\n",
        "| 1  | 1  | 1 | 1 | Q(1,1,1,1) |\n",
        "| 1  | 1  | 1 | 2 | Q(1,1,1,2) |\n",
        "| |..| .. | |\n",
        "4 | 20 | 20 | 2 | Q(4,20,20,2) |\n",
        "\n",
        "\n",
        "La tabla de valores inicial, para este caso, sería:\n",
        "\n",
        "```\n",
        "mosaicos = 4\n",
        "action_values_Q = np.zeros((mosaicos, 20,20, 3))\n",
        "```\n",
        "\n",
        "\n",
        "\n",
        "Para conocer el resultado de una acción:\n",
        "```\n",
        "next_state, reward, done, _, _ = tcenv.step(action)\n",
        "```\n",
        "\n",
        "Este resultado lo podremos usar, por ejemplo, para SARSA. Para cada mosaico $k=1, 2, ..$ actualizamos su función Q como:\n",
        "\n",
        "```\n",
        "qsa = action_values_Q[k][state][action]\n",
        "next_qsa = action_values_Q[k][next_state][next_action]\n",
        "action_values_Q[k][state][action] = qsa + alpha * (reward + gamma * next_qsa - qsa)\n",
        "```\n",
        "\n",
        "\n",
        "En cuanto a cómo elegir la acción a tomar se puede usar el siguiente código:\n",
        "\n",
        "```\n",
        "def policy(state, epsilon=0.1):\n",
        "    if np.random.random() < epsilon:\n",
        "        return np.random.randint(3) # Selecciona una acción al azar\n",
        "    else:\n",
        "        av_list = []\n",
        "        for k, idx in enumerate(state):\n",
        "            av = action_values[k][idx]\n",
        "            av_list.append(av)\n",
        "\n",
        "        av = np.mean(av_list, axis=0)\n",
        "        return np.random.choice(np.flatnonzero(av==av.max()))\n",
        "```\n",
        "\n",
        "`av_list` es una lista de la forma `av_list=[[1.0, 2.0, 3.0], [3.0, 2.0, 3.0], ...]` con tantos elementos como mosaicos haya.\n",
        "\n",
        "`np.mean(av_list, axis=0)` calcula la media de los valores `Q`. Por ejemplo: `[(1.0+3.0)/2, (2.0+2.0)/2, (3.0+3.0)/2]`.\n",
        "\n",
        "\n",
        "`np.random.choice()` elige un índice al azar, si hubiera varios, que se correspondan con los valores de acción máximos (en media).\n"
      ],
      "metadata": {
        "id": "_rvmDZXh-q7k"
      }
    },
    {
      "cell_type": "markdown",
      "metadata": {
        "id": "J_qLNpc0vgqT"
      },
      "source": [
        "\n",
        "## Bibliografía"
      ]
    },
    {
      "cell_type": "markdown",
      "metadata": {
        "id": "R8lQEV8uvgqT"
      },
      "source": [
        "[[1] Reinforcement Learning: An Introduction. Section 9.5.4: Tile Coding](https://web.stanford.edu/class/psych209/Readings/SuttonBartoIPRLBook2ndEd.pdf)"
      ]
    }
  ],
  "metadata": {
    "kernelspec": {
      "display_name": "Python 3",
      "language": "python",
      "name": "python3"
    },
    "language_info": {
      "codemirror_mode": {
        "name": "ipython",
        "version": 3
      },
      "file_extension": ".py",
      "mimetype": "text/x-python",
      "name": "python",
      "nbconvert_exporter": "python",
      "pygments_lexer": "ipython3",
      "version": "3.8.5"
    },
    "colab": {
      "provenance": []
    }
  },
  "nbformat": 4,
  "nbformat_minor": 0
}